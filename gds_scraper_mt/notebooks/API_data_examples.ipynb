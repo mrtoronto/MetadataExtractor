{
 "cells": [
  {
   "cell_type": "markdown",
   "metadata": {
    "toc": true
   },
   "source": [
    "<h1>Table of Contents<span class=\"tocSkip\"></span></h1>\n",
    "<div class=\"toc\"><ul class=\"toc-item\"><li><span><a href=\"#Article-Abstract-Data\" data-toc-modified-id=\"Article-Abstract-Data-1\"><span class=\"toc-item-num\">1&nbsp;&nbsp;</span>Article Abstract Data</a></span></li><li><span><a href=\"#Extracting-PMC-Article-Link-from-Article-Abstract-Page\" data-toc-modified-id=\"Extracting-PMC-Article-Link-from-Article-Abstract-Page-2\"><span class=\"toc-item-num\">2&nbsp;&nbsp;</span>Extracting PMC Article Link from Article Abstract Page</a></span></li></ul></div>"
   ]
  },
  {
   "cell_type": "code",
   "execution_count": 4,
   "metadata": {
    "ExecuteTime": {
     "end_time": "2019-11-04T12:03:10.437346Z",
     "start_time": "2019-11-04T12:03:10.418982Z"
    }
   },
   "outputs": [],
   "source": [
    "import requests\n",
    "import re\n",
    "import xml.etree.ElementTree as ET"
   ]
  },
  {
   "cell_type": "markdown",
   "metadata": {},
   "source": [
    "### Article Abstract Data"
   ]
  },
  {
   "cell_type": "code",
   "execution_count": 135,
   "metadata": {
    "ExecuteTime": {
     "end_time": "2019-11-05T18:46:08.616848Z",
     "start_time": "2019-11-05T18:46:07.965449Z"
    }
   },
   "outputs": [
    {
     "data": {
      "text/plain": [
       "['Due to the inadequate automation in the amplification and sequencing procedures, the use of 16S rRNA gene sequence-based methods in clinical microbiology laboratories is largely limited to identification of strains that are difficult to identify by phenotypic methods. In this study, using conventional full-sequence 16S rRNA gene sequencing as the \"gold standard,\" we evaluated the usefulness of the MicroSeq 500 16S ribosomal DNA (rDNA)-based bacterial identification system, which involves amplification and sequencing of the first 527-bp fragment of the 16S rRNA genes of bacterial strains and analysis of the sequences using the database of the system, for identification of clinically significant bacterial isolates with ambiguous biochemical profiles. Among 37 clinically significant bacterial strains that showed ambiguous biochemical profiles, representing 37 nonduplicating aerobic gram-positive and gram-negative, anaerobic, and Mycobacterium species, the MicroSeq 500 16S rDNA-based bacterial identification system was successful in identifying 30 (81.1%) of them. Five (13.5%) isolates were misidentified at the genus level (Granulicatella adiacens was misidentified as Abiotrophia defectiva, Helcococcus kunzii was misidentified as Clostridium hastiforme, Olsenella uli was misidentified as Atopobium rimae, Leptotrichia buccalis was misidentified as Fusobacterium mortiferum, and Bergeyella zoohelcum was misidentified as Rimerella anatipestifer), and two (5.4%) were misidentified at the species level (Actinomyces odontolyticus was misidentified as Actinomyces meyeri and Arcobacter cryaerophilus was misidentified as Arcobacter butzleri). When the same 527-bp DNA sequences of these seven isolates were compared to the known 16S rRNA gene sequences in the GenBank, five yielded the correct identity, with good discrimination between the best and second best match sequences, meaning that the reason for misidentification in these five isolates was due to a lack of the 16S rRNA gene sequences of these bacteria in the database of the MicroSeq 500 16S rDNA-based bacterial identification system. In conclusion, the MicroSeq 500 16S rDNA-based bacterial identification system is useful for identification of most clinically important bacterial strains with ambiguous biochemical profiles, but the database of the MicroSeq 500 16S rDNA-based bacterial identification system has to be expanded in order to encompass the rarely encountered bacterial species and achieve better accuracy in bacterial identification.']"
      ]
     },
     "execution_count": 135,
     "metadata": {},
     "output_type": "execute_result"
    }
   ],
   "source": [
    "url='https://www.ncbi.nlm.nih.gov/pubmed/1873258'\n",
    "url='https://www.ncbi.nlm.nih.gov/pubmed/12734240'\n",
    "root = ET.fromstring(requests.get(url).content)\n",
    "for elem in root.getiterator():\n",
    "    if not hasattr(elem.tag, 'find'): continue\n",
    "    i = elem.tag.find('}')\n",
    "    if i >= 0:\n",
    "        elem.tag = elem.tag[i+1:]\n",
    "list(root.findall('.//div[@class=\"rprt_all\"]//div[@class=\"abstr\"]/')[1].itertext())"
   ]
  },
  {
   "cell_type": "markdown",
   "metadata": {},
   "source": [
    "### Extracting PMC Article Link from Article Abstract Page\n",
    "\n",
    "You could just put the PMID into a PMC link and try to get the response but the below approach could be broadened to other non-paywalled article hosts"
   ]
  },
  {
   "cell_type": "code",
   "execution_count": 134,
   "metadata": {
    "ExecuteTime": {
     "end_time": "2019-11-05T18:45:58.474417Z",
     "start_time": "2019-11-05T18:45:58.469896Z"
    }
   },
   "outputs": [
    {
     "data": {
      "text/plain": [
       "['http://jcm.asm.org/cgi/pmidlookup?view=long&pmid=12734240',\n",
       " 'https://www.ncbi.nlm.nih.gov/pmc/articles/pmid/12734240/',\n",
       " '/pubmed/?p$l=AjaxServer&portlets=id=pmfavad;id=pmdiscora:db=pubmed:pmid=12734240;id=pmdiscopmc:db=pubmed:pmid=12734240;id=pmdiscostruct:db=pubmed:pmid=12734240;id=pmdiscodblinks:db=pubmed:pmid=12734240;id=recentactivity&load=yes&page=full']"
      ]
     },
     "execution_count": 134,
     "metadata": {},
     "output_type": "execute_result"
    }
   ],
   "source": [
    "[i.get('href') for i in root.findall('.//div[@class=\"supplemental col three_col last\"]//a')]"
   ]
  },
  {
   "cell_type": "code",
   "execution_count": 136,
   "metadata": {
    "ExecuteTime": {
     "end_time": "2019-11-05T22:24:38.271449Z",
     "start_time": "2019-11-05T22:24:37.844360Z"
    }
   },
   "outputs": [
    {
     "data": {
      "text/plain": [
       "'<?xml version=\"1.0\" encoding=\"utf-8\"?>\\n<!DOCTYPE html PUBLIC \"-//W3C//DTD XHTML 1.0 Transitional//EN\" \"http://www.w3.org/TR/xhtml1/DTD/xhtml1-transitional.dtd\">\\n<html xmlns=\"http://www.w3.org/1999/xhtml\" xml:lang=\"en\" lang=\"en\">\\n    \\n    <head><meta http-equiv=\"Content-Type\" content=\"text/html; charset=utf-8\" />\\n        <!-- AppResources meta begin -->\\n        <script type=\"text/javascript\">var ncbi_startTime = new Date();</script>\\n        <!-- AppResources meta end -->\\n        \\n        <!-- TemplateResources meta begin -->\\n        <meta name=\"paf_template\" content=\"error\" />\\n\\n        <!-- TemplateResources meta end -->\\n        \\n        <!-- Logger begin -->\\n        <meta name=\"ncbi_app\" content=\"pmc\" /><meta name=\"ncbi_pdid\" content=\"error\" />\\n        <!-- Logger end -->\\n        \\n        <title>Page not available</title>\\n        \\n        <!-- AppResources external_resources begin -->\\n        <link rel=\"stylesheet\" href=\"/core/jig/1.14.8/css/jig.min.css\" /><script type=\"text/javascript\" src=\"/core/jig/1.14.8/js/jig.min.js\"></script>\\n\\n        <!-- AppResources external_resources end -->\\n        \\n        <!-- Page meta begin -->\\n        <meta xmlns:ncbi-portal=\"http://ncbi.gov/portal/XSLT/namespace\" xmlns:np=\"http://ncbi.gov/portal/XSLT/namespace\" xmlns:xsi=\"http://www.w3.org/2001/XMLSchema-instance\" name=\"robots\" content=\"NOINDEX,NOFOLLOW,NOARCHIVE\" /><link xmlns:ncbi-portal=\"http://ncbi.gov/portal/XSLT/namespace\" xmlns:np=\"http://ncbi.gov/portal/XSLT/namespace\" xmlns:xsi=\"http://www.w3.org/2001/XMLSchema-instance\" rel=\"stylesheet\" href=\"/corehtml/pmc/css/3.14.1/pmc.min.css\" type=\"text/css\" /><script xmlns:ncbi-portal=\"http://ncbi.gov/portal/XSLT/namespace\" xmlns:np=\"http://ncbi.gov/portal/XSLT/namespace\" xmlns:xsi=\"http://www.w3.org/2001/XMLSchema-instance\" type=\"text/javascript\" src=\"/corehtml/pmc/js/common.min.js\">//</script><script xmlns:ncbi-portal=\"http://ncbi.gov/portal/XSLT/namespace\" xmlns:np=\"http://ncbi.gov/portal/XSLT/namespace\" xmlns:xsi=\"http://www.w3.org/2001/XMLSchema-instance\" type=\"text/javascript\" src=\"/corehtml/pmc/js/NcbiTagServer.min.js\">//</script><script xmlns:ncbi-portal=\"http://ncbi.gov/portal/XSLT/namespace\" xmlns:np=\"http://ncbi.gov/portal/XSLT/namespace\" xmlns:xsi=\"http://www.w3.org/2001/XMLSchema-instance\" type=\"text/javascript\" src=\"/core/mathjax/2.6.1/MathJax.js?config=/corehtml/pmc/js/mathjax-config-classic.3.4.js\"></script><script xmlns:ncbi-portal=\"http://ncbi.gov/portal/XSLT/namespace\" xmlns:np=\"http://ncbi.gov/portal/XSLT/namespace\" xmlns:xsi=\"http://www.w3.org/2001/XMLSchema-instance\" type=\"text/javascript\">window.name=\"mainwindow\";</script><style xmlns:ncbi-portal=\"http://ncbi.gov/portal/XSLT/namespace\" xmlns:np=\"http://ncbi.gov/portal/XSLT/namespace\" xmlns:xsi=\"http://www.w3.org/2001/XMLSchema-instance\" type=\"text/css\">.pmc-wm {background:transparent repeat-y top left;background-image:url(/corehtml/pmc/pmcgifs/wm-nobrand.png);background-size: auto, contain}</style><style xmlns:ncbi-portal=\"http://ncbi.gov/portal/XSLT/namespace\" xmlns:np=\"http://ncbi.gov/portal/XSLT/namespace\" xmlns:xsi=\"http://www.w3.org/2001/XMLSchema-instance\" type=\"text/css\">.print-view{display:block}</style>\\n        <!-- Page meta end -->\\n    <link rel=\"shortcut icon\" href=\"//www.ncbi.nlm.nih.gov/favicon.ico\" /><meta name=\"ncbi_phid\" content=\"CE8BC4EEDC1EA4610000000007CE04BC.m_5\" />\\n<meta name=\\'referrer\\' content=\\'origin-when-cross-origin\\'/><link type=\"text/css\" rel=\"stylesheet\" href=\"//static.pubmed.gov/portal/portal3rc.fcgi/4160049/css/3852956/3985586/3808861/4121862/3974050/3917732/251717/4048120/3846471/14534/3861632/3881636/3579733/4062871/12930/3964959/4033350.css\" /><link type=\"text/css\" rel=\"stylesheet\" href=\"//static.pubmed.gov/portal/portal3rc.fcgi/4160049/css/3411343/3882866.css\" media=\"print\" /></head>\\n    <body class=\"\">\\n        <div class=\"grid\">\\n            <div class=\"col twelve_col nomargin shadow\">\\n                <!-- System messages like service outage or JS required; this is handled by the TemplateResources portlet -->\\n                <div class=\"sysmessages\">\\n                    <noscript>\\n\\t<p class=\"nojs\">\\n\\t<strong>Warning:</strong>\\n\\tThe NCBI web site requires JavaScript to function. \\n\\t<a href=\"/guide/browsers/#enablejs\" title=\"Learn how to enable JavaScript\" target=\"_blank\">more...</a>\\n\\t</p>\\n\\t</noscript>\\n                </div>\\n                <!--/.sysmessage-->\\n                <div class=\"wrap\">\\n                    <div class=\"page\">\\n                        <div class=\"top\">\\n                            <div class=\"universal_header\" id=\"universal_header\"><ul class=\"inline_list jig-ncbimenu ui-ncbimenu resources_list\" id=\"navcontent\"><li class=\"ui-ncbimenu-item-leaf ui-ncbimenu-item-first ui-helper-reset ui-ncbimenu-item-no-hlt\"><a class=\"ui-ncbimenu-link-first\" href=\"/\" role=\"banner\" title=\"NCBI Home\" id=\"ncbihome\" accesskey=\"1\"><span class=\"offscreen_noflow\">NCBI</span><img src=\"//static.pubmed.gov/portal/portal3rc.fcgi/4160049/img/28977\" class=\"ncbi_logo\" title=\"NCBI\" alt=\"NCBI Logo\" /></a></li><li class=\"offscreen_noflow ui-ncbimenu-item-skip access\"><a href=\"#maincontent\" title=\"Skip to the content\" tabindex=\"0\" accesskey=\"3\">Skip to main\\n                        content</a></li><li class=\"offscreen_noflow ui-ncbimenu-item-skip access\"><a href=\"#navcontent\" title=\"Skip to the navigation\" tabindex=\"0\" accesskey=\"4\">Skip to\\n                        navigation</a></li><li id=\"resource-menu\" class=\"topmenu ui-helper-reset ui-ncbimenu-item-first ui-helper-reset\"><a class=\"ui-ncbimenu-first-link-has-submenu ui-ncbimenu-link-first topanchor expandDown\" href=\"/static/header_footer_ajax/submenu/#resources\">Resources</a></li><li id=\"all-howtos-menu\" class=\"topmenu ui-helper-reset ui-ncbimenu-item-first\"><a class=\"ui-ncbimenu-first-link-has-submenu ui-ncbimenu-link-first topanchor expandDown\" href=\"/static/header_footer_ajax/submenu/#howto\">How To</a></li><li class=\"offscreen_noflow ui-ncbimenu-item-skip access\"><a href=\"/guide/browsers/#accesskeys\" title=\"About My NCBI Accesskeys\" tabindex=\"0\" accesskey=\"0\">About NCBI Accesskeys</a></li></ul><div class=\"myncbi\"><span id=\"myncbiusername\" style=\"display:none\"><a href=\"/account/settings/\" id=\"mnu\" title=\"Edit account settings\"></a></span><a accesskey=\"2\" href=\"/myncbi/\" id=\"myncbi\" style=\"display:none\">My NCBI</a><a href=\"/account/\" id=\"sign_in\">Sign in to NCBI</a><a href=\"/account/signout/\" id=\"sign_out\" style=\"display:none\">Sign Out</a></div></div>\\n                            <div class=\"header\">\\n    <div class=\"res_logo\">\\n  <h1 class=\"img_logo\"><a href=\"/pmc/\" class=\"pmc_logo offscreen\">PMC</a></h1>\\n  <div class=\"NLMLogo\">\\n    <a href=\"https://www.nlm.nih.gov/\" title=\"US National Library of Medicine\">US National Library of Medicine</a>\\n    <br />\\n    <a href=\"https://www.nih.gov/\" title=\"National Institutes of Health\">National Institutes of Health</a>\\n  </div>\\n</div>\\n    <div class=\"search\"><form method=\"get\" action=\"/pmc/\"><div class=\"search_form\"><label for=\"database\" class=\"offscreen_noflow\">Search database</label><select id=\"database\"><optgroup label=\"Recent\"><option value=\"pmc\" selected=\"selected\" class=\"last\" data-ac_dict=\"pmc-search-autocomplete\">PMC</option></optgroup><optgroup label=\"All\"><option value=\"gquery\">All Databases</option><option value=\"assembly\">Assembly</option><option value=\"biocollections\">Biocollections</option><option value=\"bioproject\">BioProject</option><option value=\"biosample\">BioSample</option><option value=\"biosystems\">BioSystems</option><option value=\"books\">Books</option><option value=\"clinvar\">ClinVar</option><option value=\"cdd\">Conserved Domains</option><option value=\"gap\">dbGaP</option><option value=\"dbvar\">dbVar</option><option value=\"gene\">Gene</option><option value=\"genome\">Genome</option><option value=\"gds\">GEO DataSets</option><option value=\"geoprofiles\">GEO Profiles</option><option value=\"gtr\">GTR</option><option value=\"homologene\">HomoloGene</option><option value=\"ipg\">Identical Protein Groups</option><option value=\"medgen\">MedGen</option><option value=\"mesh\">MeSH</option><option value=\"ncbisearch\">NCBI Web Site</option><option value=\"nlmcatalog\">NLM Catalog</option><option value=\"nuccore\">Nucleotide</option><option value=\"omim\">OMIM</option><option value=\"pmc\" data-ac_dict=\"pmc-search-autocomplete\">PMC</option><option value=\"popset\">PopSet</option><option value=\"probe\">Probe</option><option value=\"protein\">Protein</option><option value=\"proteinclusters\">Protein Clusters</option><option value=\"pcassay\">PubChem BioAssay</option><option value=\"pccompound\">PubChem Compound</option><option value=\"pcsubstance\">PubChem Substance</option><option value=\"pubmed\">PubMed</option><option value=\"snp\">SNP</option><option value=\"sparcle\">Sparcle</option><option value=\"sra\">SRA</option><option value=\"structure\">Structure</option><option value=\"taxonomy\">Taxonomy</option><option value=\"toolkit\">ToolKit</option><option value=\"toolkitall\">ToolKitAll</option><option value=\"toolkitbookgh\">ToolKitBookgh</option></optgroup></select><div class=\"nowrap\"><label for=\"term\" class=\"offscreen_noflow\" accesskey=\"/\">Search term</label><div class=\"nowrap\"><input type=\"text\" name=\"term\" id=\"term\" title=\"Search PMC. Use up and down arrows to choose an item from the autocomplete.\" value=\"\" class=\"jig-ncbiclearbutton jig-ncbiautocomplete\" data-jigconfig=\"dictionary:\\'pmc-search-autocomplete\\',disableUrl:\\'NcbiSearchBarAutoComplCtrl\\'\" autocomplete=\"off\" data-sbconfig=\"ds:\\'no\\',pjs:\\'no\\',afs:\\'yes\\'\" /></div><button id=\"search\" type=\"submit\" class=\"button_search nowrap\" cmd=\"go\">Search</button></div></div></form><ul class=\"searchlinks inline_list\"><li>\\n                        <a href=\"/pmc/advanced/\">Advanced</a>\\n                    </li><li>\\n                        <a href=\"/pmc/journals/\">Journal list</a>\\n                    </li><li class=\"help\">\\n                        <a target=\"_blank\" href=\"/books/NBK3825/\">Help</a>\\n                    </li></ul></div>\\n</div>\\n\\n                            \\n                            \\n                        <!--<component id=\"Page\" label=\"headcontent\"/>-->\\n                            \\n                        </div>\\n                        <div class=\"content\">\\n                            <!-- site messages -->\\n                            <div class=\"container\">\\n    <div id=\"maincontent\" class=\"twelve_col col\">\\n        <div class=\"col1\">\\n            <div>\\n  <div class=\"pmc-page-banner whole_rhythm\">\\n    <h1 class=\"banner-color1 banner-text banner-title\">Page not available</h1>\\n  </div>\\n  <div class=\"main-exception-content\">\\n    <p>\\n      <em>Your access to PubMed Central has been blocked because you are using an automated process to retrieve content from PMC, in violation of the terms of the PMC Copyright Notice.</em>\\n    </p>\\n    <div class=\"pmc-warning-box el-exception-box shadow whole_rhythm\">\\n<div class=\"el-exception-reason\"><span style=\"font-weight: bold;\">Reason: </span>Automated retrieval by user agent \"python-requests/2.21.0\".</div>\\n<div class=\"el-exception-url\"><span style=\"font-weight: bold;\">URL: </span>https://www.ncbi.nlm.nih.gov/pmc/articles/PMC5450840/</div>\\n<div class=\"el-exception-id\"><span style=\"font-weight: bold;\">Message ID: </span>1856413265 (ipmc12)</div>\\n<div class=\"el-exception-time\"><span style=\"font-weight: bold;\">Time: </span>2019/11/05 17:24:39</div></div>\\n    <p>Use of PMC is free, but must comply with the terms of the <a href=\"/pmc/about/copyright/\">Copyright Notice</a> on the PMC site. For additional information, or to request that your IP address be unblocked, <span class=\"el-contact-help\">please send an <a href=\"mailto:pubmedcentral@nih.gov?subject=%5BPMC%20Exception%20Feedback%5D%3A%20Blocked%20request.%20Reason%3A%20Automated%20retrieval%20by%20user%20agent%20%22python-requests%2F2.21.0%22.&amp;body=%3E%20%0A%3E%20Reason%3A%20Automated%20retrieval%20by%20user%20agent%20%22python-requests%2F2.21.0%22.%0A%3E%20URL%3A%20https%3A%2F%2Fwww.ncbi.nlm.nih.gov%2Fpmc%2Farticles%2FPMC5450840%2F%0A%3E%20Message%20ID%3A%201856413265%20(ipmc12)%0A%3E%20Time%3A%202019%2F11%2F05%2017%3A24%3A39\">email to PMC</a>.</span> For requests to be unblocked, you <em>must</em> include all of the information in the box above in your message.</p>\\n  </div>\\n</div>\\n\\n        </div>\\n        <div class=\"col2\">\\n            \\n        </div>\\n        <div class=\"col3\">\\n            \\n        </div>\\n        <div class=\"col4\">\\n            \\n        </div>\\n        <div class=\"col5\">\\n            \\n        </div>\\n        <div class=\"col6\">\\n            \\n        </div>\\n        <div class=\"col7\">\\n            \\n        </div>\\n        <div class=\"col8\">\\n            \\n        </div>\\n        <div class=\"col9\">\\n            \\n        </div>\\n    </div>\\n</div>\\n                        </div>\\n                        <div class=\"bottom\">\\n                            \\n                            <div id=\"NCBIFooter_dynamic\">\\n    <a id=\"help-desk-link\" class=\"help_desk\" href=\"\" target=\"_blank\">Support Center</a>\\n    <a id=\"help-desk-link\" class=\"help_desk\" href=\"https://support.ncbi.nlm.nih.gov/ics/support/KBList.asp?Time=2019-11-05T17:24:39-05:00&amp;Snapshot=%2Fprojects%2FPMC%2FPMCViewer@4.46&amp;Host=portal104&amp;ncbi_phid=CE8BC4EEDC1EA4610000000007CE04BC&amp;ncbi_session=CE8BC4EEDC1F6A71_1998SID&amp;from=https%3A%2F%2Fwww.ncbi.nlm.nih.gov%2Fpmc%2Farticles%2FPMC5450840%2F&amp;Db=pmc&amp;folderID=132&amp;Ncbi_App=pmc&amp;Page=error&amp;style=classic&amp;deptID=28049\" target=\"_blank\">Support Center</a>\\n    \\n</div>\\n\\n                            <div class=\"footer\" id=\"footer\">\\n    \\n    <div class=\"subfooter\"> </div><script type=\"text/javascript\" src=\"/portal/portal3rc.fcgi/static/js/preloaderWidget.js\"> </script>\\n    <div id=\"external-disclaimer\" class=\"offscreen_noflow\">\\n        External link. Please review our <a href=\"https://www.nlm.nih.gov/privacy.html\">privacy policy</a>.\\n    </div>    \\n    <div id=\"ncbifooter\" class=\"contact_info\">      \\n        <div id=\"footer-contents-right\">\\n            <div id=\"nlm_thumb_logo\">\\n                <a href=\"https://www.nlm.nih.gov\" title=\"NLM\">NLM</a>\\n            </div>\\n            <div id=\"nih_thumb_logo\">\\n                <a href=\"https://www.nih.gov\" title=\"NIH\">NIH</a>\\n            </div>\\n            <div id=\"hhs_thumb_logo\">\\n                <a href=\"https://www.hhs.gov\" title=\"DHHS\">DHHS</a>\\n            </div>\\n            <div id=\"usagov_thumb_logo\">\\n                <a href=\"https://www.usa.gov\" title=\"USA.gov\">USA.gov</a>\\n            </div>         \\n        </div>\\n        \\n        <div id=\"footer-contents-left\">\\n            <p class=\"address vcard\">\\n                <span class=\"url\">\\n                    <a class=\"fn url newdomain\" href=\"https://www.ncbi.nlm.nih.gov\">National Center for\\n                        Biotechnology Information</a>,\\n                </span> <span class=\"org url newdomain\"><a href=\"https://www.nlm.nih.gov/\">U.S. National Library of Medicine</a></span>\\n                <span class=\"adr\">\\n                    <span class=\"street-address\">8600 Rockville Pike</span>, <span class=\"locality\">Bethesda</span>\\n                    <span class=\"region\">MD</span>, <span class=\"postal-code\">20894</span>\\n                    <span class=\"country-name\">USA</span>\\n                </span>\\n            </p>\\n            \\n            <a href=\"/home/about/policies.shtml\">Policies and Guidelines</a> | <a href=\"/home/about/contact.shtml\">Contact</a>\\n        </div>\\n    </div>\\n    <script type=\"text/javascript\" src=\"/portal/portal3rc.fcgi/rlib/js/InstrumentOmnitureBaseJS/InstrumentNCBIConfigJS/InstrumentNCBIBaseJS/InstrumentPageStarterJS.js?v=1\"> </script>    \\n    <script type=\"text/javascript\" src=\"/portal/portal3rc.fcgi/static/js/hfjs2.js\"> </script>\\n</div>\\n                        </div>\\n                    </div>\\n                    <!--/.page-->\\n                </div>\\n                <!--/.wrap-->\\n            </div><!-- /.twelve_col -->\\n        </div>\\n        <!-- /.grid -->\\n\\n        <span class=\"PAFAppResources\"></span>\\n        \\n        <!-- BESelector tab -->\\n        \\n        \\n        \\n        <noscript><img alt=\"statistics\" src=\"/stat?jsdisabled=true&amp;ncbi_app=pmc&amp;ncbi_pdid=error\" /></noscript>\\n        \\n        \\n        <!-- usually for JS scripts at page bottom -->\\n        <!--<component id=\"PageFixtures\" label=\"styles\"></component>-->\\n    \\n\\n<!-- CE8BC4EEDC1F6A71_1998SID /projects/PMC/PMCViewer@4.46 portal104 v4.1.r585844 Mon, May 06 2019 02:53:16 -->\\n\\n<script type=\"text/javascript\" src=\"//static.pubmed.gov/portal/portal3rc.fcgi/4160049/js/3879255/4121861/3818874/4168176/4087685.js\" snapshot=\"pmc\"></script></body>\\n</html>'"
      ]
     },
     "execution_count": 136,
     "metadata": {},
     "output_type": "execute_result"
    }
   ],
   "source": [
    "url='https://www.ncbi.nlm.nih.gov/pmc/articles/PMC5450840/'\n",
    "requests.get(url).text"
   ]
  },
  {
   "cell_type": "code",
   "execution_count": 132,
   "metadata": {
    "ExecuteTime": {
     "end_time": "2019-11-05T01:35:00.836687Z",
     "start_time": "2019-11-05T01:35:00.473526Z"
    }
   },
   "outputs": [
    {
     "data": {
      "text/plain": [
       "[<Element body at 0x113139588>]"
      ]
     },
     "execution_count": 132,
     "metadata": {},
     "output_type": "execute_result"
    }
   ],
   "source": [
    "from lxml import etree\n",
    "from io import StringIO, BytesIO\n",
    "parser = etree.HTMLParser()\n",
    "tree = etree.parse(StringIO(str(requests.get(url).content)), parser)\n",
    "tree.findall('./')"
   ]
  },
  {
   "cell_type": "code",
   "execution_count": 199,
   "metadata": {
    "ExecuteTime": {
     "end_time": "2019-11-09T20:56:30.144532Z",
     "start_time": "2019-11-09T20:56:29.240655Z"
    },
    "scrolled": false
   },
   "outputs": [
    {
     "ename": "AttributeError",
     "evalue": "'NoneType' object has no attribute 'itertext'",
     "output_type": "error",
     "traceback": [
      "\u001b[0;31m---------------------------------------------------------------------------\u001b[0m",
      "\u001b[0;31mAttributeError\u001b[0m                            Traceback (most recent call last)",
      "\u001b[0;32m<ipython-input-199-60de880f0d45>\u001b[0m in \u001b[0;36m<module>\u001b[0;34m\u001b[0m\n\u001b[1;32m     11\u001b[0m \u001b[0mdiv_list\u001b[0m \u001b[0;34m=\u001b[0m \u001b[0mroot\u001b[0m\u001b[0;34m.\u001b[0m\u001b[0mfindall\u001b[0m\u001b[0;34m(\u001b[0m\u001b[0;34m'.//div'\u001b[0m\u001b[0;34m)\u001b[0m\u001b[0;34m\u001b[0m\u001b[0;34m\u001b[0m\u001b[0m\n\u001b[1;32m     12\u001b[0m \u001b[0;34m\u001b[0m\u001b[0m\n\u001b[0;32m---> 13\u001b[0;31m \u001b[0mimport_div_list\u001b[0m \u001b[0;34m=\u001b[0m \u001b[0;34m[\u001b[0m\u001b[0mi\u001b[0m\u001b[0;34m.\u001b[0m\u001b[0mfindall\u001b[0m\u001b[0;34m(\u001b[0m\u001b[0;34m'./..'\u001b[0m\u001b[0;34m)\u001b[0m \u001b[0;32mfor\u001b[0m \u001b[0mi\u001b[0m \u001b[0;32min\u001b[0m \u001b[0mdiv_list\u001b[0m \u001b[0;32mif\u001b[0m \u001b[0;34m'methods'\u001b[0m \u001b[0;32min\u001b[0m \u001b[0;34m' '\u001b[0m\u001b[0;34m.\u001b[0m\u001b[0mjoin\u001b[0m\u001b[0;34m(\u001b[0m\u001b[0mlist\u001b[0m\u001b[0;34m(\u001b[0m\u001b[0mi\u001b[0m\u001b[0;34m.\u001b[0m\u001b[0mfind\u001b[0m\u001b[0;34m(\u001b[0m\u001b[0;34m'h2'\u001b[0m\u001b[0;34m)\u001b[0m\u001b[0;34m.\u001b[0m\u001b[0mitertext\u001b[0m\u001b[0;34m(\u001b[0m\u001b[0;34m)\u001b[0m\u001b[0;34m)\u001b[0m\u001b[0;34m)\u001b[0m\u001b[0;34m.\u001b[0m\u001b[0mlower\u001b[0m\u001b[0;34m(\u001b[0m\u001b[0;34m)\u001b[0m\u001b[0;34m]\u001b[0m\u001b[0;34m\u001b[0m\u001b[0;34m\u001b[0m\u001b[0m\n\u001b[0m\u001b[1;32m     14\u001b[0m \u001b[0mimport_div_list\u001b[0m\u001b[0;34m\u001b[0m\u001b[0;34m\u001b[0m\u001b[0m\n",
      "\u001b[0;32m<ipython-input-199-60de880f0d45>\u001b[0m in \u001b[0;36m<listcomp>\u001b[0;34m(.0)\u001b[0m\n\u001b[1;32m     11\u001b[0m \u001b[0mdiv_list\u001b[0m \u001b[0;34m=\u001b[0m \u001b[0mroot\u001b[0m\u001b[0;34m.\u001b[0m\u001b[0mfindall\u001b[0m\u001b[0;34m(\u001b[0m\u001b[0;34m'.//div'\u001b[0m\u001b[0;34m)\u001b[0m\u001b[0;34m\u001b[0m\u001b[0;34m\u001b[0m\u001b[0m\n\u001b[1;32m     12\u001b[0m \u001b[0;34m\u001b[0m\u001b[0m\n\u001b[0;32m---> 13\u001b[0;31m \u001b[0mimport_div_list\u001b[0m \u001b[0;34m=\u001b[0m \u001b[0;34m[\u001b[0m\u001b[0mi\u001b[0m\u001b[0;34m.\u001b[0m\u001b[0mfindall\u001b[0m\u001b[0;34m(\u001b[0m\u001b[0;34m'./..'\u001b[0m\u001b[0;34m)\u001b[0m \u001b[0;32mfor\u001b[0m \u001b[0mi\u001b[0m \u001b[0;32min\u001b[0m \u001b[0mdiv_list\u001b[0m \u001b[0;32mif\u001b[0m \u001b[0;34m'methods'\u001b[0m \u001b[0;32min\u001b[0m \u001b[0;34m' '\u001b[0m\u001b[0;34m.\u001b[0m\u001b[0mjoin\u001b[0m\u001b[0;34m(\u001b[0m\u001b[0mlist\u001b[0m\u001b[0;34m(\u001b[0m\u001b[0mi\u001b[0m\u001b[0;34m.\u001b[0m\u001b[0mfind\u001b[0m\u001b[0;34m(\u001b[0m\u001b[0;34m'h2'\u001b[0m\u001b[0;34m)\u001b[0m\u001b[0;34m.\u001b[0m\u001b[0mitertext\u001b[0m\u001b[0;34m(\u001b[0m\u001b[0;34m)\u001b[0m\u001b[0;34m)\u001b[0m\u001b[0;34m)\u001b[0m\u001b[0;34m.\u001b[0m\u001b[0mlower\u001b[0m\u001b[0;34m(\u001b[0m\u001b[0;34m)\u001b[0m\u001b[0;34m]\u001b[0m\u001b[0;34m\u001b[0m\u001b[0;34m\u001b[0m\u001b[0m\n\u001b[0m\u001b[1;32m     14\u001b[0m \u001b[0mimport_div_list\u001b[0m\u001b[0;34m\u001b[0m\u001b[0;34m\u001b[0m\u001b[0m\n",
      "\u001b[0;31mAttributeError\u001b[0m: 'NoneType' object has no attribute 'itertext'"
     ]
    }
   ],
   "source": [
    "url='https://www.ncbi.nlm.nih.gov/pmc/articles/PMC154750/'\n",
    "defaultAgent = {'User-Agent': 'Mozilla/5.0 (compatible; Googlebot/2.1; +http://www.google.com/bot.html)'}\n",
    "\n",
    "root = ET.fromstring(requests.get(url, headers=defaultAgent).content)\n",
    "for elem in root.getiterator():\n",
    "    if not hasattr(elem.tag, 'find'): continue\n",
    "    i = elem.tag.find('}')\n",
    "    if i >= 0:\n",
    "        elem.tag = elem.tag[i+1:]\n",
    "        \n",
    "div_list = root.findall('.//div')\n",
    "\n",
    "import_div_list = [i.findall('./..') for i in div_list if 'methods' in ' '.join(list(i.find('h2').itertext())).lower()]\n",
    "import_div_list"
   ]
  },
  {
   "cell_type": "code",
   "execution_count": 175,
   "metadata": {
    "ExecuteTime": {
     "end_time": "2019-11-09T20:24:13.554540Z",
     "start_time": "2019-11-09T20:24:13.549591Z"
    }
   },
   "outputs": [
    {
     "data": {
      "text/plain": [
       "'\\n            '"
      ]
     },
     "execution_count": 175,
     "metadata": {},
     "output_type": "execute_result"
    }
   ],
   "source": [
    "root.findall('.//div')[0].text"
   ]
  },
  {
   "cell_type": "code",
   "execution_count": null,
   "metadata": {},
   "outputs": [],
   "source": []
  }
 ],
 "metadata": {
  "kernelspec": {
   "display_name": "Python 3",
   "language": "python",
   "name": "python3"
  },
  "language_info": {
   "codemirror_mode": {
    "name": "ipython",
    "version": 3
   },
   "file_extension": ".py",
   "mimetype": "text/x-python",
   "name": "python",
   "nbconvert_exporter": "python",
   "pygments_lexer": "ipython3",
   "version": "3.7.3"
  },
  "toc": {
   "base_numbering": 1,
   "nav_menu": {},
   "number_sections": true,
   "sideBar": true,
   "skip_h1_title": true,
   "title_cell": "Table of Contents",
   "title_sidebar": "Contents",
   "toc_cell": true,
   "toc_position": {},
   "toc_section_display": true,
   "toc_window_display": false
  },
  "varInspector": {
   "cols": {
    "lenName": 16,
    "lenType": 16,
    "lenVar": 40
   },
   "kernels_config": {
    "python": {
     "delete_cmd_postfix": "",
     "delete_cmd_prefix": "del ",
     "library": "var_list.py",
     "varRefreshCmd": "print(var_dic_list())"
    },
    "r": {
     "delete_cmd_postfix": ") ",
     "delete_cmd_prefix": "rm(",
     "library": "var_list.r",
     "varRefreshCmd": "cat(var_dic_list()) "
    }
   },
   "types_to_exclude": [
    "module",
    "function",
    "builtin_function_or_method",
    "instance",
    "_Feature"
   ],
   "window_display": false
  }
 },
 "nbformat": 4,
 "nbformat_minor": 2
}
