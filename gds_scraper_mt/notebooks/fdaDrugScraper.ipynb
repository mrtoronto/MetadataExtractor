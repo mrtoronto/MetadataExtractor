{
 "cells": [
  {
   "cell_type": "markdown",
   "metadata": {
    "toc": true
   },
   "source": [
    "<h1>Table of Contents<span class=\"tocSkip\"></span></h1>\n",
    "<div class=\"toc\"><ul class=\"toc-item\"></ul></div>"
   ]
  },
  {
   "cell_type": "code",
   "execution_count": 175,
   "metadata": {
    "ExecuteTime": {
     "end_time": "2019-11-07T01:17:06.604779Z",
     "start_time": "2019-11-07T01:17:06.598398Z"
    }
   },
   "outputs": [],
   "source": [
    "import xml.etree.ElementTree as ET\n",
    "from lxml import etree\n",
    "import requests\n",
    "import lxml.html\n",
    "import string\n",
    "import re\n",
    "import json\n",
    "letters = list(string.ascii_uppercase)"
   ]
  },
  {
   "cell_type": "code",
   "execution_count": 176,
   "metadata": {
    "ExecuteTime": {
     "end_time": "2019-11-07T01:17:07.746086Z",
     "start_time": "2019-11-07T01:17:06.825031Z"
    }
   },
   "outputs": [
    {
     "name": "stdout",
     "output_type": "stream",
     "text": [
      "['BACI-RX', 'BACI-RX (BACITRACIN)', ' | ANDA  #061580 | POWDER;FOR RX COMPOUNDING  | X GEN PHARMS']\n",
      "['BACIGUENT', 'BACIGUENT (BACITRACIN)', ' | ANDA  #060734 | OINTMENT;OPHTHALMIC  | PHARMACIA AND UPJOHN']\n",
      "['BACIIM', 'BACIIM (BACITRACIN)', ' | ANDA  #064153 | INJECTABLE;INJECTION  | X GEN PHARMS']\n"
     ]
    }
   ],
   "source": [
    "tmp_letter = 'B'\n",
    "url = f'https://www.accessdata.fda.gov/scripts/cder/daf/index.cfm?event=browseByLetter.page&productLetter={tmp_letter}'\n",
    "root = lxml.html.document_fromstring(requests.get(url).content)\n",
    "drug_list = root.findall('.//tbody/tr/td')\n",
    "\n",
    "for drug in drug_list[:3]:\n",
    "    print([re.sub('[\\r\\n\\t]', '', i) for i in drug.itertext() if re.sub('[\\r\\n\\t ]', '', i) != ''])"
   ]
  },
  {
   "cell_type": "code",
   "execution_count": 177,
   "metadata": {
    "ExecuteTime": {
     "end_time": "2019-11-07T01:17:07.795857Z",
     "start_time": "2019-11-07T01:17:07.778788Z"
    }
   },
   "outputs": [],
   "source": [
    "def fdaDrugScraper(export=False):\n",
    "    \"\"\"\n",
    "    Scrapes https://www.accessdata.fda.gov for drugs and associated data.\n",
    "    \"\"\"\n",
    "    drugs_dict = {}\n",
    "    for letter in letters:\n",
    "        url = f'https://www.accessdata.fda.gov/scripts/cder/daf/index.cfm?event=browseByLetter.page&productLetter={letter}'\n",
    "        root = lxml.html.document_fromstring(requests.get(url).text)\n",
    "        drug_list = root.findall('.//tbody/tr/td')\n",
    "        for drug in drug_list:\n",
    "            drug_cols = [re.sub('[\\r\\n\\t]', '', i) for i in drug.itertext() if re.sub('[\\r\\n\\t ]', '', i) != '']\n",
    "            drug_name = drug_cols[0]\n",
    "            active_ingred = drug_cols[1].split('(')[0]#[:-1]\n",
    "            anda_number = drug_cols[2].split('|')[1].split('#')[1]\n",
    "            dosage_form = drug_cols[2].split('|')[2]\n",
    "            company = drug_cols[2].split('|')[3]\n",
    "\n",
    "            drug_dict = {'drug_name' : drug_name, \n",
    "                        'ANDA' : anda_number,\n",
    "                        'active_ingred' : active_ingred,\n",
    "                        'dosage_form' : dosage_form, \n",
    "                        'company' : company\n",
    "                        }\n",
    "            drugs_dict[drug_name] = drug_dict\n",
    "    if export == True:\n",
    "        with open('fdaDrug_data.json', 'w') as fout:\n",
    "            json.dump(drugs_dict, fout, indent = 4)\n",
    "    return drugs_dict\n"
   ]
  },
  {
   "cell_type": "code",
   "execution_count": 180,
   "metadata": {
    "ExecuteTime": {
     "end_time": "2019-11-07T01:18:00.735921Z",
     "start_time": "2019-11-07T01:17:50.167193Z"
    }
   },
   "outputs": [],
   "source": [
    "drug_dictionary = fdaDrugScraper(export=False)"
   ]
  },
  {
   "cell_type": "code",
   "execution_count": 181,
   "metadata": {
    "ExecuteTime": {
     "end_time": "2019-11-07T01:40:54.788580Z",
     "start_time": "2019-11-07T01:40:54.783147Z"
    }
   },
   "outputs": [
    {
     "data": {
      "text/plain": [
       "7318"
      ]
     },
     "execution_count": 181,
     "metadata": {},
     "output_type": "execute_result"
    }
   ],
   "source": [
    "len(drug_dictionary.keys())"
   ]
  },
  {
   "cell_type": "code",
   "execution_count": null,
   "metadata": {},
   "outputs": [],
   "source": []
  }
 ],
 "metadata": {
  "kernelspec": {
   "display_name": "Python 3",
   "language": "python",
   "name": "python3"
  },
  "language_info": {
   "codemirror_mode": {
    "name": "ipython",
    "version": 3
   },
   "file_extension": ".py",
   "mimetype": "text/x-python",
   "name": "python",
   "nbconvert_exporter": "python",
   "pygments_lexer": "ipython3",
   "version": "3.7.3"
  },
  "toc": {
   "base_numbering": 1,
   "nav_menu": {},
   "number_sections": true,
   "sideBar": true,
   "skip_h1_title": true,
   "title_cell": "Table of Contents",
   "title_sidebar": "Contents",
   "toc_cell": true,
   "toc_position": {},
   "toc_section_display": true,
   "toc_window_display": false
  },
  "varInspector": {
   "cols": {
    "lenName": 16,
    "lenType": 16,
    "lenVar": 40
   },
   "kernels_config": {
    "python": {
     "delete_cmd_postfix": "",
     "delete_cmd_prefix": "del ",
     "library": "var_list.py",
     "varRefreshCmd": "print(var_dic_list())"
    },
    "r": {
     "delete_cmd_postfix": ") ",
     "delete_cmd_prefix": "rm(",
     "library": "var_list.r",
     "varRefreshCmd": "cat(var_dic_list()) "
    }
   },
   "types_to_exclude": [
    "module",
    "function",
    "builtin_function_or_method",
    "instance",
    "_Feature"
   ],
   "window_display": false
  }
 },
 "nbformat": 4,
 "nbformat_minor": 2
}
