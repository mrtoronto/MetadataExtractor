{
 "cells": [
  {
   "cell_type": "markdown",
   "metadata": {
    "toc": true
   },
   "source": [
    "<h1>Table of Contents<span class=\"tocSkip\"></span></h1>\n",
    "<div class=\"toc\"><ul class=\"toc-item\"></ul></div>"
   ]
  },
  {
   "cell_type": "code",
   "execution_count": 14,
   "metadata": {
    "ExecuteTime": {
     "end_time": "2019-11-08T18:48:59.139566Z",
     "start_time": "2019-11-08T18:48:59.122908Z"
    }
   },
   "outputs": [],
   "source": [
    "import requests, urllib\n",
    "import xml.etree.ElementTree as ET"
   ]
  },
  {
   "cell_type": "code",
   "execution_count": 26,
   "metadata": {
    "ExecuteTime": {
     "end_time": "2019-11-08T23:17:00.393795Z",
     "start_time": "2019-11-08T23:16:59.866567Z"
    }
   },
   "outputs": [
    {
     "name": "stdout",
     "output_type": "stream",
     "text": [
      "https://pubchem.ncbi.nlm.nih.gov/rest/pug/compound/name/Dox/xml\n"
     ]
    },
    {
     "data": {
      "text/plain": [
       "True"
      ]
     },
     "execution_count": 26,
     "metadata": {},
     "output_type": "execute_result"
    }
   ],
   "source": [
    "import requests, urllib\n",
    "import xml.etree.ElementTree as ET\n",
    "def pubChem_verify(chemical_name):\n",
    "    \"\"\"\n",
    "    Function will take in a chemical name, ping it to pubchem and then return a boolean based on the response page.\n",
    "    This will return True for a partial match to a valid chemical which may cause issues. \n",
    "        Args:\n",
    "            chemical_name - Str: Name of chemical to be sent to PubChem\n",
    "            \n",
    "        Returns:\n",
    "            Boolean: Value based on whether the chemical is valid according to PubChem\n",
    "    \"\"\"\n",
    "    url = f'https://pubchem.ncbi.nlm.nih.gov/rest/pug/compound/name/{chemical_name}/xml'\n",
    "    root = ET.fromstring(requests.get(url).text)\n",
    "\n",
    "    if 'Fault' in root.tag:\n",
    "        return False\n",
    "    else:\n",
    "        print(url)\n",
    "        return True\n",
    "\n",
    "pubChem_verify('Dox')"
   ]
  },
  {
   "cell_type": "code",
   "execution_count": null,
   "metadata": {},
   "outputs": [],
   "source": []
  }
 ],
 "metadata": {
  "kernelspec": {
   "display_name": "Python 3",
   "language": "python",
   "name": "python3"
  },
  "language_info": {
   "codemirror_mode": {
    "name": "ipython",
    "version": 3
   },
   "file_extension": ".py",
   "mimetype": "text/x-python",
   "name": "python",
   "nbconvert_exporter": "python",
   "pygments_lexer": "ipython3",
   "version": "3.7.3"
  },
  "toc": {
   "base_numbering": 1,
   "nav_menu": {},
   "number_sections": true,
   "sideBar": true,
   "skip_h1_title": true,
   "title_cell": "Table of Contents",
   "title_sidebar": "Contents",
   "toc_cell": true,
   "toc_position": {},
   "toc_section_display": true,
   "toc_window_display": false
  },
  "varInspector": {
   "cols": {
    "lenName": 16,
    "lenType": 16,
    "lenVar": 40
   },
   "kernels_config": {
    "python": {
     "delete_cmd_postfix": "",
     "delete_cmd_prefix": "del ",
     "library": "var_list.py",
     "varRefreshCmd": "print(var_dic_list())"
    },
    "r": {
     "delete_cmd_postfix": ") ",
     "delete_cmd_prefix": "rm(",
     "library": "var_list.r",
     "varRefreshCmd": "cat(var_dic_list()) "
    }
   },
   "types_to_exclude": [
    "module",
    "function",
    "builtin_function_or_method",
    "instance",
    "_Feature"
   ],
   "window_display": false
  }
 },
 "nbformat": 4,
 "nbformat_minor": 2
}
